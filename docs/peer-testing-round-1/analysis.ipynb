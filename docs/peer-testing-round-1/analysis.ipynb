{
 "cells": [
  {
   "cell_type": "code",
   "execution_count": 6,
   "metadata": {},
   "outputs": [],
   "source": [
    "import pandas as pd"
   ]
  },
  {
   "cell_type": "code",
   "execution_count": 26,
   "metadata": {},
   "outputs": [],
   "source": [
    "# load csv file\n",
    "file_path = './raw-results/COSC 499 Peer Testing Round 1_Questionnaire_RAW.csv'\n",
    "df = pd.read_csv(file_path)\n",
    "\n",
    "# remove headers\n",
    "df_dropped = df.drop(index=[0, 1, 2])\n",
    "\n",
    "# separate question blocks\n",
    "TLX = df_dropped.iloc[:, 0:20]\n",
    "WUS = df_dropped.iloc[:, 20:30]\n",
    "recommend = df_dropped.iloc[:, 30:31]\n",
    "free_text_q1 = df_dropped.iloc[:, 31:32]\n",
    "free_text_q2 = df_dropped.iloc[:, 32:33]"
   ]
  },
  {
   "cell_type": "code",
   "execution_count": 97,
   "metadata": {},
   "outputs": [
    {
     "name": "stdout",
     "output_type": "stream",
     "text": [
      "Mean TLX Score for Task 1: 5.181818181818182\n",
      "Mean TLX Score for Task 2: 5.272727272727273\n",
      "Mean TLX Score for Task 3: 5.2272727272727275\n",
      "Mean TLX Score for Task 4: 5.090909090909091\n",
      "Mean TLX Score for Task 5: 5.409090909090908\n",
      "Mean TLX Score for All Tasks: 5.236363636363636\n"
     ]
    }
   ],
   "source": [
    "#-------------------------------------------\n",
    "# Analysis for TLX\n",
    "#-------------------------------------------\n",
    "\n",
    "# hardcoding since this is quicker\n",
    "indices_to_exclude = [1, 5, 9, 13, 17]  # for question 2: \"I was successful in accomplishing what I wanted to do\"\n",
    "reverse_code_columns = [i for i in range(TLX.shape[1]) if i not in indices_to_exclude]\n",
    "\n",
    "# reverse code columns\n",
    "TLX_int = TLX.astype(int)\n",
    "TLX_int.iloc[:, reverse_code_columns] = TLX_int.iloc[:, reverse_code_columns].apply(lambda x: 8-x)\n",
    "\n",
    "# calculate mean for each task\n",
    "# note: for each group, we are taking the mean of the mean of each column\n",
    "# This gives the correct mean since the number of elements of all groups is the same\n",
    "# https://math.stackexchange.com/questions/95909/why-is-an-average-of-an-average-usually-incorrect\n",
    "num_groups = len(TLX_int.columns) // 4\n",
    "for i in range(num_groups):\n",
    "    group = TLX_int.iloc[:, i*4:(i+1)*4]\n",
    "    print(\"Mean TLX Score for Task {task_num}:\".format(task_num=i+1), \n",
    "          group.mean().mean())\n",
    "\n",
    "# calculate mean for all tasks\n",
    "print(\"Mean TLX Score for All Tasks:\", TLX_int.mean().mean())"
   ]
  },
  {
   "cell_type": "code",
   "execution_count": 122,
   "metadata": {},
   "outputs": [
    {
     "name": "stdout",
     "output_type": "stream",
     "text": [
      "Mean WUS Score: 64.77272727272727\n"
     ]
    }
   ],
   "source": [
    "#-------------------------------------------\n",
    "# Analysis for WUS\n",
    "# Guidelines: https://measuringu.com/sus/\n",
    "#-------------------------------------------\n",
    "\n",
    "WUS_int = WUS.astype(int)\n",
    "odd_items = [i for i in range(WUS.shape[1]) if i % 2 == 0]      # index starts at 0\n",
    "even_items = [i for i in range(WUS.shape[1]) if i % 2 != 0]\n",
    "\n",
    "# for odd items, subtract one from the user response\n",
    "WUS_int.iloc[:, odd_items] = WUS_int.iloc[:, odd_items].apply(lambda x: x-1)\n",
    "\n",
    "# for even-numbered items, subtract the user responses from 5\n",
    "WUS_int.iloc[:, even_items] = WUS_int.iloc[:, even_items].apply(lambda x: 5-x)\n",
    "\n",
    "# ensure that all values are between 0 and 4 after scaling\n",
    "assert ((WUS_int >= 0) & (WUS_int <= 4)).all().all()\n",
    "\n",
    "# add up the converted responses for each user and multiply that total by 2.5\n",
    "row_sums = WUS_int.sum(axis=1) * 2.5\n",
    "\n",
    "# ensure that all values are between 0 and 100 after scaling\n",
    "assert ((row_sums >= 0) & (row_sums <= 100)).all()\n",
    "\n",
    "# find the average WUS score\n",
    "print(\"Mean WUS Score:\", row_sums.mean())"
   ]
  },
  {
   "cell_type": "code",
   "execution_count": 133,
   "metadata": {},
   "outputs": [
    {
     "name": "stdout",
     "output_type": "stream",
     "text": [
      "Mean Recommendation Score (all participants): 5.818181818181818\n",
      "Mean Recommendation Score (drop NaN): 7.111111111111111\n"
     ]
    }
   ],
   "source": [
    "#-------------------------------------------\n",
    "# How likely are you to recommend this website to others?\n",
    "# Scale: 0 to 10\n",
    "#-------------------------------------------\n",
    "\n",
    "recommend_int = recommend.astype(int)\n",
    "print(\"Mean Recommendation Score (all participants):\", recommend_int.mean().mean())\n",
    "\n",
    "# if we remove the two non-responses (0)\n",
    "drop_nan = recommend_int[recommend_int != 0]\n",
    "print(\"Mean Recommendation Score (drop NaN):\", drop_nan.mean().mean())"
   ]
  },
  {
   "cell_type": "code",
   "execution_count": 134,
   "metadata": {},
   "outputs": [
    {
     "data": {
      "text/html": [
       "<div>\n",
       "<style scoped>\n",
       "    .dataframe tbody tr th:only-of-type {\n",
       "        vertical-align: middle;\n",
       "    }\n",
       "\n",
       "    .dataframe tbody tr th {\n",
       "        vertical-align: top;\n",
       "    }\n",
       "\n",
       "    .dataframe thead th {\n",
       "        text-align: right;\n",
       "    }\n",
       "</style>\n",
       "<table border=\"1\" class=\"dataframe\">\n",
       "  <thead>\n",
       "    <tr style=\"text-align: right;\">\n",
       "      <th></th>\n",
       "      <th>FreeTextQ1</th>\n",
       "    </tr>\n",
       "  </thead>\n",
       "  <tbody>\n",
       "    <tr>\n",
       "      <th>3</th>\n",
       "      <td>NaN</td>\n",
       "    </tr>\n",
       "    <tr>\n",
       "      <th>4</th>\n",
       "      <td>Efficient</td>\n",
       "    </tr>\n",
       "    <tr>\n",
       "      <th>5</th>\n",
       "      <td>The system's pretty intuitive and I was able t...</td>\n",
       "    </tr>\n",
       "    <tr>\n",
       "      <th>6</th>\n",
       "      <td>Simplicity</td>\n",
       "    </tr>\n",
       "    <tr>\n",
       "      <th>7</th>\n",
       "      <td>NaN</td>\n",
       "    </tr>\n",
       "    <tr>\n",
       "      <th>8</th>\n",
       "      <td>NaN</td>\n",
       "    </tr>\n",
       "    <tr>\n",
       "      <th>9</th>\n",
       "      <td>NaN</td>\n",
       "    </tr>\n",
       "    <tr>\n",
       "      <th>10</th>\n",
       "      <td>I really liked the UI</td>\n",
       "    </tr>\n",
       "    <tr>\n",
       "      <th>11</th>\n",
       "      <td>The UI was very aesthetically pleasing and smo...</td>\n",
       "    </tr>\n",
       "    <tr>\n",
       "      <th>12</th>\n",
       "      <td>Consistent design</td>\n",
       "    </tr>\n",
       "    <tr>\n",
       "      <th>13</th>\n",
       "      <td>Works good, the omr working would be great but...</td>\n",
       "    </tr>\n",
       "  </tbody>\n",
       "</table>\n",
       "</div>"
      ],
      "text/plain": [
       "                                           FreeTextQ1\n",
       "3                                                 NaN\n",
       "4                                          Efficient \n",
       "5   The system's pretty intuitive and I was able t...\n",
       "6                                         Simplicity \n",
       "7                                                 NaN\n",
       "8                                                 NaN\n",
       "9                                                 NaN\n",
       "10                              I really liked the UI\n",
       "11  The UI was very aesthetically pleasing and smo...\n",
       "12                                  Consistent design\n",
       "13  Works good, the omr working would be great but..."
      ]
     },
     "execution_count": 134,
     "metadata": {},
     "output_type": "execute_result"
    }
   ],
   "source": [
    "free_text_q1"
   ]
  },
  {
   "cell_type": "code",
   "execution_count": 135,
   "metadata": {},
   "outputs": [
    {
     "data": {
      "text/html": [
       "<div>\n",
       "<style scoped>\n",
       "    .dataframe tbody tr th:only-of-type {\n",
       "        vertical-align: middle;\n",
       "    }\n",
       "\n",
       "    .dataframe tbody tr th {\n",
       "        vertical-align: top;\n",
       "    }\n",
       "\n",
       "    .dataframe thead th {\n",
       "        text-align: right;\n",
       "    }\n",
       "</style>\n",
       "<table border=\"1\" class=\"dataframe\">\n",
       "  <thead>\n",
       "    <tr style=\"text-align: right;\">\n",
       "      <th></th>\n",
       "      <th>FreeTextQ2</th>\n",
       "    </tr>\n",
       "  </thead>\n",
       "  <tbody>\n",
       "    <tr>\n",
       "      <th>3</th>\n",
       "      <td>NaN</td>\n",
       "    </tr>\n",
       "    <tr>\n",
       "      <th>4</th>\n",
       "      <td>Interface can be much simpler</td>\n",
       "    </tr>\n",
       "    <tr>\n",
       "      <th>5</th>\n",
       "      <td>I'm not sure. Some usability features could be...</td>\n",
       "    </tr>\n",
       "    <tr>\n",
       "      <th>6</th>\n",
       "      <td>Clearer differentiation between accessing and ...</td>\n",
       "    </tr>\n",
       "    <tr>\n",
       "      <th>7</th>\n",
       "      <td>functions is clicking everywhere on the web pa...</td>\n",
       "    </tr>\n",
       "    <tr>\n",
       "      <th>8</th>\n",
       "      <td>NaN</td>\n",
       "    </tr>\n",
       "    <tr>\n",
       "      <th>9</th>\n",
       "      <td>NaN</td>\n",
       "    </tr>\n",
       "    <tr>\n",
       "      <th>10</th>\n",
       "      <td>I would say that creating and grading exams co...</td>\n",
       "    </tr>\n",
       "    <tr>\n",
       "      <th>11</th>\n",
       "      <td>When going on it for the first time, it was a ...</td>\n",
       "    </tr>\n",
       "    <tr>\n",
       "      <th>12</th>\n",
       "      <td>Add alerts</td>\n",
       "    </tr>\n",
       "    <tr>\n",
       "      <th>13</th>\n",
       "      <td>Looks good to me just some minor changes</td>\n",
       "    </tr>\n",
       "  </tbody>\n",
       "</table>\n",
       "</div>"
      ],
      "text/plain": [
       "                                           FreeTextQ2\n",
       "3                                                 NaN\n",
       "4                      Interface can be much simpler \n",
       "5   I'm not sure. Some usability features could be...\n",
       "6   Clearer differentiation between accessing and ...\n",
       "7   functions is clicking everywhere on the web pa...\n",
       "8                                                 NaN\n",
       "9                                                 NaN\n",
       "10  I would say that creating and grading exams co...\n",
       "11  When going on it for the first time, it was a ...\n",
       "12                                         Add alerts\n",
       "13           Looks good to me just some minor changes"
      ]
     },
     "execution_count": 135,
     "metadata": {},
     "output_type": "execute_result"
    }
   ],
   "source": [
    "free_text_q2"
   ]
  },
  {
   "cell_type": "code",
   "execution_count": null,
   "metadata": {},
   "outputs": [],
   "source": []
  }
 ],
 "metadata": {
  "kernelspec": {
   "display_name": "opt",
   "language": "python",
   "name": "python3"
  },
  "language_info": {
   "codemirror_mode": {
    "name": "ipython",
    "version": 3
   },
   "file_extension": ".py",
   "mimetype": "text/x-python",
   "name": "python",
   "nbconvert_exporter": "python",
   "pygments_lexer": "ipython3",
   "version": "3.12.4"
  }
 },
 "nbformat": 4,
 "nbformat_minor": 2
}
