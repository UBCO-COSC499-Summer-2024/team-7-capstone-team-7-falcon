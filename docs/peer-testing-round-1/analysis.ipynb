{
 "cells": [
  {
   "cell_type": "code",
   "execution_count": 6,
   "metadata": {},
   "outputs": [],
   "source": [
    "import pandas as pd"
   ]
  },
  {
   "cell_type": "code",
   "execution_count": 26,
   "metadata": {},
   "outputs": [],
   "source": [
    "# load csv file\n",
    "file_path = './raw-results/COSC 499 Peer Testing Round 1_Questionnaire_RAW.csv'\n",
    "df = pd.read_csv(file_path)\n",
    "\n",
    "# remove headers\n",
    "df_dropped = df.drop(index=[0, 1, 2])\n",
    "\n",
    "# separate question blocks\n",
    "TLX = df_dropped.iloc[:, 0:20]\n",
    "WUS = df_dropped.iloc[:, 20:30]\n",
    "recommend = df_dropped.iloc[:, 30:31]\n",
    "free_text_q1 = df_dropped.iloc[:, 31:32]\n",
    "free_text_q2 = df_dropped.iloc[:, 32:33]"
   ]
  },
  {
   "cell_type": "code",
   "execution_count": 97,
   "metadata": {},
   "outputs": [
    {
     "name": "stdout",
     "output_type": "stream",
     "text": [
      "Mean TLX Score for Task 1: 5.181818181818182\n",
      "Mean TLX Score for Task 2: 5.272727272727273\n",
      "Mean TLX Score for Task 3: 5.2272727272727275\n",
      "Mean TLX Score for Task 4: 5.090909090909091\n",
      "Mean TLX Score for Task 5: 5.409090909090908\n",
      "Mean TLX Score for All Tasks: 5.236363636363636\n"
     ]
    }
   ],
   "source": [
    "#-------------------------------------------\n",
    "# Analysis for TLX\n",
    "#-------------------------------------------\n",
    "\n",
    "# hardcoding since this is quicker\n",
    "indices_to_exclude = [1, 5, 9, 13, 17]  # for question 2: \"I was successful in accomplishing what I wanted to do\"\n",
    "reverse_code_columns = [i for i in range(TLX.shape[1]) if i not in indices_to_exclude]\n",
    "\n",
    "# reverse code columns\n",
    "TLX_int = TLX.astype(int)\n",
    "TLX_int.iloc[:, reverse_code_columns] = TLX_int.iloc[:, reverse_code_columns].apply(lambda x: 8-x)\n",
    "\n",
    "# calculate mean for each task\n",
    "# note: for each group, we are taking the mean of the mean of each column\n",
    "# This gives the correct mean since the number of elements of all groups is the same\n",
    "# https://math.stackexchange.com/questions/95909/why-is-an-average-of-an-average-usually-incorrect\n",
    "num_groups = len(TLX_int.columns) // 4\n",
    "for i in range(num_groups):\n",
    "    group = TLX_int.iloc[:, i*4:(i+1)*4]\n",
    "    print(\"Mean TLX Score for Task {task_num}:\".format(task_num=i+1), \n",
    "          group.mean().mean())\n",
    "\n",
    "# calculate mean for all tasks\n",
    "print(\"Mean TLX Score for All Tasks:\", TLX_int.mean().mean())"
   ]
  },
  {
   "cell_type": "code",
   "execution_count": null,
   "metadata": {},
   "outputs": [],
   "source": []
  }
 ],
 "metadata": {
  "kernelspec": {
   "display_name": "opt",
   "language": "python",
   "name": "python3"
  },
  "language_info": {
   "codemirror_mode": {
    "name": "ipython",
    "version": 3
   },
   "file_extension": ".py",
   "mimetype": "text/x-python",
   "name": "python",
   "nbconvert_exporter": "python",
   "pygments_lexer": "ipython3",
   "version": "3.12.4"
  }
 },
 "nbformat": 4,
 "nbformat_minor": 2
}
