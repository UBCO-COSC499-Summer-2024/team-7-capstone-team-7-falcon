{
 "cells": [
  {
   "cell_type": "code",
   "execution_count": 1,
   "metadata": {},
   "outputs": [],
   "source": [
    "import pandas as pd"
   ]
  },
  {
   "cell_type": "code",
   "execution_count": 2,
   "metadata": {},
   "outputs": [],
   "source": [
    "# load csv file\n",
    "file_path = './raw-results/COSC_499_Test_O_Rama_Questionnaire_RAW.csv'\n",
    "df = pd.read_csv(file_path)\n",
    "\n",
    "# remove headers\n",
    "df_dropped = df.drop(index=[0, 1, 2])\n",
    "\n",
    "# separate question blocks\n",
    "num_TLX_questions = 10               # total number of questions\n",
    "num_TLX_sub_questions = 4            # parts per question\n",
    "TLX_end_idx = num_TLX_questions*num_TLX_sub_questions\n",
    "\n",
    "TLX = df_dropped.iloc[:, 0:TLX_end_idx]\n",
    "WUS = df_dropped.iloc[:, TLX_end_idx:(TLX_end_idx+10)]\n",
    "recommend = df_dropped.iloc[:, (TLX_end_idx+10):(TLX_end_idx+11)]\n",
    "free_text_q1 = df_dropped.iloc[:, (TLX_end_idx+11):(TLX_end_idx+12)]\n",
    "free_text_q2 = df_dropped.iloc[:, (TLX_end_idx+12):(TLX_end_idx+13)]"
   ]
  },
  {
   "cell_type": "code",
   "execution_count": 3,
   "metadata": {},
   "outputs": [
    {
     "name": "stdout",
     "output_type": "stream",
     "text": [
      "Mean TLX Score for Task 1: 81.81818181818183\n",
      "Mean TLX Score for Task 2: 82.95454545454545\n",
      "Mean TLX Score for Task 3: 80.68181818181819\n",
      "Mean TLX Score for Task 4: 85.98484848484848\n",
      "Mean TLX Score for Task 5: 78.7878787878788\n",
      "Mean TLX Score for Task 6: 82.57575757575758\n",
      "Mean TLX Score for Task 7: 78.03030303030305\n",
      "Mean TLX Score for Task 8: 76.51515151515153\n",
      "Mean TLX Score for Task 9: 82.1969696969697\n",
      "Mean TLX Score for Task 10: 82.95454545454545\n",
      "Mean TLX Score for All Tasks: 81.25\n"
     ]
    }
   ],
   "source": [
    "#-------------------------------------------\n",
    "# Analysis for TLX\n",
    "#-------------------------------------------\n",
    "\n",
    "# function to map 7-point likert scale to 0-100\n",
    "def map_to_0_100(likert_point):\n",
    "    return ((likert_point - 1) / 6) * 100\n",
    "\n",
    "# hardcoding since this is quicker\n",
    "indices_to_exclude = list(range(1, TLX_end_idx, num_TLX_sub_questions))  # for question 2: \"I was successful in accomplishing what I wanted to do\"\n",
    "reverse_code_columns = [i for i in range(TLX.shape[1]) if i not in indices_to_exclude]\n",
    "\n",
    "# reverse code columns and scale to 0-100\n",
    "TLX_int = TLX.astype(int)\n",
    "TLX_int.iloc[:, reverse_code_columns] = TLX_int.iloc[:, reverse_code_columns].apply(lambda x: 8-x)\n",
    "TLX_scaled=TLX_int.iloc[:, :].map(map_to_0_100)\n",
    "\n",
    "# calculate mean for each task\n",
    "# note: for each group, we are taking the mean of the mean of each column\n",
    "# This gives the correct mean since the number of elements of all groups is the same\n",
    "# https://math.stackexchange.com/questions/95909/why-is-an-average-of-an-average-usually-incorrect\n",
    "num_groups = len(TLX_scaled.columns) // 4\n",
    "for i in range(num_groups):\n",
    "    group = TLX_scaled.iloc[:, i*4:(i+1)*4]\n",
    "    print(\"Mean TLX Score for Task {task_num}:\".format(task_num=i+1), \n",
    "          group.mean().mean())\n",
    "\n",
    "# calculate mean for all tasks\n",
    "print(\"Mean TLX Score for All Tasks:\", TLX_scaled.mean().mean())"
   ]
  },
  {
   "cell_type": "code",
   "execution_count": 4,
   "metadata": {},
   "outputs": [
    {
     "name": "stdout",
     "output_type": "stream",
     "text": [
      "Mean WUS Score: 71.81818181818181\n"
     ]
    }
   ],
   "source": [
    "#-------------------------------------------\n",
    "# Analysis for WUS\n",
    "# Guidelines: https://measuringu.com/sus/\n",
    "#-------------------------------------------\n",
    "\n",
    "WUS_int = WUS.astype(int)\n",
    "odd_items = [i for i in range(WUS.shape[1]) if i % 2 == 0]      # index starts at 0\n",
    "even_items = [i for i in range(WUS.shape[1]) if i % 2 != 0]\n",
    "\n",
    "# for odd items, subtract one from the user response\n",
    "WUS_int.iloc[:, odd_items] = WUS_int.iloc[:, odd_items].apply(lambda x: x-1)\n",
    "\n",
    "# for even-numbered items, subtract the user responses from 5\n",
    "WUS_int.iloc[:, even_items] = WUS_int.iloc[:, even_items].apply(lambda x: 5-x)\n",
    "\n",
    "# ensure that all values are between 0 and 4 after scaling\n",
    "assert ((WUS_int >= 0) & (WUS_int <= 4)).all().all()\n",
    "\n",
    "# add up the converted responses for each user and multiply that total by 2.5\n",
    "row_sums = WUS_int.sum(axis=1) * 2.5\n",
    "\n",
    "# ensure that all values are between 0 and 100 after scaling\n",
    "assert ((row_sums >= 0) & (row_sums <= 100)).all()\n",
    "\n",
    "# find the average WUS score\n",
    "print(\"Mean WUS Score:\", row_sums.mean())"
   ]
  },
  {
   "cell_type": "code",
   "execution_count": 5,
   "metadata": {},
   "outputs": [
    {
     "name": "stdout",
     "output_type": "stream",
     "text": [
      "Mean Recommendation Score (all participants): 7.909090909090909\n",
      "Mean Recommendation Score (drop NaN): 7.909090909090909\n"
     ]
    }
   ],
   "source": [
    "#-------------------------------------------\n",
    "# How likely are you to recommend this website to others?\n",
    "# Scale: 0 to 10\n",
    "#-------------------------------------------\n",
    "\n",
    "recommend_int = recommend.astype(int)\n",
    "print(\"Mean Recommendation Score (all participants):\", recommend_int.mean().mean())\n",
    "\n",
    "# if we remove the two non-responses (0)\n",
    "drop_nan = recommend_int[recommend_int != 0]\n",
    "print(\"Mean Recommendation Score (drop NaN):\", drop_nan.mean().mean())"
   ]
  },
  {
   "cell_type": "code",
   "execution_count": 6,
   "metadata": {},
   "outputs": [
    {
     "data": {
      "text/html": [
       "<div>\n",
       "<style scoped>\n",
       "    .dataframe tbody tr th:only-of-type {\n",
       "        vertical-align: middle;\n",
       "    }\n",
       "\n",
       "    .dataframe tbody tr th {\n",
       "        vertical-align: top;\n",
       "    }\n",
       "\n",
       "    .dataframe thead th {\n",
       "        text-align: right;\n",
       "    }\n",
       "</style>\n",
       "<table border=\"1\" class=\"dataframe\">\n",
       "  <thead>\n",
       "    <tr style=\"text-align: right;\">\n",
       "      <th></th>\n",
       "      <th>FreeTextQ1</th>\n",
       "    </tr>\n",
       "  </thead>\n",
       "  <tbody>\n",
       "    <tr>\n",
       "      <th>3</th>\n",
       "      <td>I enjoyed the improvements from my last demo.</td>\n",
       "    </tr>\n",
       "    <tr>\n",
       "      <th>4</th>\n",
       "      <td>The aesthetics and obvious buttons and features</td>\n",
       "    </tr>\n",
       "    <tr>\n",
       "      <th>5</th>\n",
       "      <td>NaN</td>\n",
       "    </tr>\n",
       "    <tr>\n",
       "      <th>6</th>\n",
       "      <td>Your UI is consistent, your exam creation work...</td>\n",
       "    </tr>\n",
       "    <tr>\n",
       "      <th>7</th>\n",
       "      <td>NaN</td>\n",
       "    </tr>\n",
       "    <tr>\n",
       "      <th>8</th>\n",
       "      <td>I love the overall UI.</td>\n",
       "    </tr>\n",
       "    <tr>\n",
       "      <th>9</th>\n",
       "      <td>Looks good</td>\n",
       "    </tr>\n",
       "    <tr>\n",
       "      <th>10</th>\n",
       "      <td>Everything</td>\n",
       "    </tr>\n",
       "    <tr>\n",
       "      <th>11</th>\n",
       "      <td>I really like the user interface, very well pu...</td>\n",
       "    </tr>\n",
       "    <tr>\n",
       "      <th>12</th>\n",
       "      <td>NaN</td>\n",
       "    </tr>\n",
       "    <tr>\n",
       "      <th>13</th>\n",
       "      <td>NaN</td>\n",
       "    </tr>\n",
       "  </tbody>\n",
       "</table>\n",
       "</div>"
      ],
      "text/plain": [
       "                                           FreeTextQ1\n",
       "3       I enjoyed the improvements from my last demo.\n",
       "4     The aesthetics and obvious buttons and features\n",
       "5                                                 NaN\n",
       "6   Your UI is consistent, your exam creation work...\n",
       "7                                                 NaN\n",
       "8                              I love the overall UI.\n",
       "9                                          Looks good\n",
       "10                                        Everything \n",
       "11  I really like the user interface, very well pu...\n",
       "12                                                NaN\n",
       "13                                                NaN"
      ]
     },
     "execution_count": 6,
     "metadata": {},
     "output_type": "execute_result"
    }
   ],
   "source": [
    "free_text_q1"
   ]
  },
  {
   "cell_type": "code",
   "execution_count": 7,
   "metadata": {},
   "outputs": [
    {
     "data": {
      "text/html": [
       "<div>\n",
       "<style scoped>\n",
       "    .dataframe tbody tr th:only-of-type {\n",
       "        vertical-align: middle;\n",
       "    }\n",
       "\n",
       "    .dataframe tbody tr th {\n",
       "        vertical-align: top;\n",
       "    }\n",
       "\n",
       "    .dataframe thead th {\n",
       "        text-align: right;\n",
       "    }\n",
       "</style>\n",
       "<table border=\"1\" class=\"dataframe\">\n",
       "  <thead>\n",
       "    <tr style=\"text-align: right;\">\n",
       "      <th></th>\n",
       "      <th>FreeTextQ2</th>\n",
       "    </tr>\n",
       "  </thead>\n",
       "  <tbody>\n",
       "    <tr>\n",
       "      <th>3</th>\n",
       "      <td>The grade overriding system; its not very intu...</td>\n",
       "    </tr>\n",
       "    <tr>\n",
       "      <th>4</th>\n",
       "      <td>Probably more color contrast for buttons that ...</td>\n",
       "    </tr>\n",
       "    <tr>\n",
       "      <th>5</th>\n",
       "      <td>NaN</td>\n",
       "    </tr>\n",
       "    <tr>\n",
       "      <th>6</th>\n",
       "      <td>Honestly I saw nothing wrong. Login took a sec...</td>\n",
       "    </tr>\n",
       "    <tr>\n",
       "      <th>7</th>\n",
       "      <td>NaN</td>\n",
       "    </tr>\n",
       "    <tr>\n",
       "      <th>8</th>\n",
       "      <td>I think that some loading animation would be a...</td>\n",
       "    </tr>\n",
       "    <tr>\n",
       "      <th>9</th>\n",
       "      <td>Happy with the UI and everything over all</td>\n",
       "    </tr>\n",
       "    <tr>\n",
       "      <th>10</th>\n",
       "      <td>Nothing</td>\n",
       "    </tr>\n",
       "    <tr>\n",
       "      <th>11</th>\n",
       "      <td>For the visibility, I would use an eyeball ico...</td>\n",
       "    </tr>\n",
       "    <tr>\n",
       "      <th>12</th>\n",
       "      <td>NaN</td>\n",
       "    </tr>\n",
       "    <tr>\n",
       "      <th>13</th>\n",
       "      <td>NaN</td>\n",
       "    </tr>\n",
       "  </tbody>\n",
       "</table>\n",
       "</div>"
      ],
      "text/plain": [
       "                                           FreeTextQ2\n",
       "3   The grade overriding system; its not very intu...\n",
       "4   Probably more color contrast for buttons that ...\n",
       "5                                                 NaN\n",
       "6   Honestly I saw nothing wrong. Login took a sec...\n",
       "7                                                 NaN\n",
       "8   I think that some loading animation would be a...\n",
       "9           Happy with the UI and everything over all\n",
       "10                                           Nothing \n",
       "11  For the visibility, I would use an eyeball ico...\n",
       "12                                                NaN\n",
       "13                                                NaN"
      ]
     },
     "execution_count": 7,
     "metadata": {},
     "output_type": "execute_result"
    }
   ],
   "source": [
    "free_text_q2"
   ]
  },
  {
   "cell_type": "code",
   "execution_count": null,
   "metadata": {},
   "outputs": [],
   "source": []
  }
 ],
 "metadata": {
  "kernelspec": {
   "display_name": "Python 3 (ipykernel)",
   "language": "python",
   "name": "python3"
  },
  "language_info": {
   "codemirror_mode": {
    "name": "ipython",
    "version": 3
   },
   "file_extension": ".py",
   "mimetype": "text/x-python",
   "name": "python",
   "nbconvert_exporter": "python",
   "pygments_lexer": "ipython3",
   "version": "3.12.3"
  }
 },
 "nbformat": 4,
 "nbformat_minor": 4
}
