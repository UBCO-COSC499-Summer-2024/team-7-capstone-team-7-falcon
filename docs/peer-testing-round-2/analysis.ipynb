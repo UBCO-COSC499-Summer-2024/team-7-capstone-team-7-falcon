{
 "cells": [
  {
   "cell_type": "code",
   "execution_count": 1,
   "metadata": {},
   "outputs": [],
   "source": [
    "import pandas as pd"
   ]
  },
  {
   "cell_type": "code",
   "execution_count": 2,
   "metadata": {},
   "outputs": [],
   "source": [
    "# load csv file\n",
    "file_path = './raw-results/testdata.csv'  # TODO: replace with actual file\n",
    "df = pd.read_csv(file_path)\n",
    "\n",
    "# remove headers\n",
    "df_dropped = df.drop(index=[0, 1, 2])\n",
    "\n",
    "# separate question blocks\n",
    "num_TLX_questions = 10               # total number of questions\n",
    "num_TLX_sub_questions = 4            # parts per question\n",
    "TLX_end_idx = num_TLX_questions*num_TLX_sub_questions\n",
    "\n",
    "TLX = df_dropped.iloc[:, 0:TLX_end_idx]\n",
    "WUS = df_dropped.iloc[:, TLX_end_idx:(TLX_end_idx+10)]\n",
    "recommend = df_dropped.iloc[:, (TLX_end_idx+10):(TLX_end_idx+11)]\n",
    "free_text_q1 = df_dropped.iloc[:, (TLX_end_idx+11):(TLX_end_idx+12)]\n",
    "free_text_q2 = df_dropped.iloc[:, (TLX_end_idx+12):(TLX_end_idx+13)]"
   ]
  },
  {
   "cell_type": "code",
   "execution_count": 4,
   "metadata": {},
   "outputs": [
    {
     "name": "stdout",
     "output_type": "stream",
     "text": [
      "Mean TLX Score for Task 1: 39.35185185185185\n",
      "Mean TLX Score for Task 2: 50.0\n",
      "Mean TLX Score for Task 3: 63.888888888888886\n",
      "Mean TLX Score for Task 4: 50.925925925925924\n",
      "Mean TLX Score for Task 5: 50.46296296296296\n",
      "Mean TLX Score for Task 6: 43.05555555555556\n",
      "Mean TLX Score for Task 7: 48.148148148148145\n",
      "Mean TLX Score for Task 8: 49.074074074074076\n",
      "Mean TLX Score for Task 9: 61.574074074074076\n",
      "Mean TLX Score for Task 10: 63.88888888888889\n",
      "Mean TLX Score for All Tasks: 52.03703703703703\n"
     ]
    }
   ],
   "source": [
    "#-------------------------------------------\n",
    "# Analysis for TLX\n",
    "#-------------------------------------------\n",
    "\n",
    "# function to map 7-point likert scale to 0-100\n",
    "def map_to_0_100(likert_point):\n",
    "    return ((likert_point - 1) / 6) * 100\n",
    "\n",
    "# hardcoding since this is quicker\n",
    "indices_to_exclude = list(range(1, TLX_end_idx, num_TLX_sub_questions))  # for question 2: \"I was successful in accomplishing what I wanted to do\"\n",
    "reverse_code_columns = [i for i in range(TLX.shape[1]) if i not in indices_to_exclude]\n",
    "\n",
    "# reverse code columns and scale to 0-100\n",
    "TLX_int = TLX.astype(int)\n",
    "TLX_int.iloc[:, reverse_code_columns] = TLX_int.iloc[:, reverse_code_columns].apply(lambda x: 8-x)\n",
    "TLX_scaled=TLX_int.iloc[:, :].map(map_to_0_100)\n",
    "\n",
    "# calculate mean for each task\n",
    "# note: for each group, we are taking the mean of the mean of each column\n",
    "# This gives the correct mean since the number of elements of all groups is the same\n",
    "# https://math.stackexchange.com/questions/95909/why-is-an-average-of-an-average-usually-incorrect\n",
    "num_groups = len(TLX_scaled.columns) // 4\n",
    "for i in range(num_groups):\n",
    "    group = TLX_scaled.iloc[:, i*4:(i+1)*4]\n",
    "    print(\"Mean TLX Score for Task {task_num}:\".format(task_num=i+1), \n",
    "          group.mean().mean())\n",
    "\n",
    "# calculate mean for all tasks\n",
    "print(\"Mean TLX Score for All Tasks:\", TLX_scaled.mean().mean())"
   ]
  },
  {
   "cell_type": "code",
   "execution_count": 5,
   "metadata": {},
   "outputs": [
    {
     "name": "stdout",
     "output_type": "stream",
     "text": [
      "Mean WUS Score: 46.94444444444444\n"
     ]
    }
   ],
   "source": [
    "#-------------------------------------------\n",
    "# Analysis for WUS\n",
    "# Guidelines: https://measuringu.com/sus/\n",
    "#-------------------------------------------\n",
    "\n",
    "WUS_int = WUS.astype(int)\n",
    "odd_items = [i for i in range(WUS.shape[1]) if i % 2 == 0]      # index starts at 0\n",
    "even_items = [i for i in range(WUS.shape[1]) if i % 2 != 0]\n",
    "\n",
    "# for odd items, subtract one from the user response\n",
    "WUS_int.iloc[:, odd_items] = WUS_int.iloc[:, odd_items].apply(lambda x: x-1)\n",
    "\n",
    "# for even-numbered items, subtract the user responses from 5\n",
    "WUS_int.iloc[:, even_items] = WUS_int.iloc[:, even_items].apply(lambda x: 5-x)\n",
    "\n",
    "# ensure that all values are between 0 and 4 after scaling\n",
    "assert ((WUS_int >= 0) & (WUS_int <= 4)).all().all()\n",
    "\n",
    "# add up the converted responses for each user and multiply that total by 2.5\n",
    "row_sums = WUS_int.sum(axis=1) * 2.5\n",
    "\n",
    "# ensure that all values are between 0 and 100 after scaling\n",
    "assert ((row_sums >= 0) & (row_sums <= 100)).all()\n",
    "\n",
    "# find the average WUS score\n",
    "print(\"Mean WUS Score:\", row_sums.mean())"
   ]
  },
  {
   "cell_type": "code",
   "execution_count": 6,
   "metadata": {},
   "outputs": [
    {
     "name": "stdout",
     "output_type": "stream",
     "text": [
      "Mean Recommendation Score (all participants): 1.4444444444444444\n",
      "Mean Recommendation Score (drop NaN): 1.8571428571428572\n"
     ]
    }
   ],
   "source": [
    "#-------------------------------------------\n",
    "# How likely are you to recommend this website to others?\n",
    "# Scale: 0 to 10\n",
    "#-------------------------------------------\n",
    "\n",
    "recommend_int = recommend.astype(int)\n",
    "print(\"Mean Recommendation Score (all participants):\", recommend_int.mean().mean())\n",
    "\n",
    "# if we remove the two non-responses (0)\n",
    "drop_nan = recommend_int[recommend_int != 0]\n",
    "print(\"Mean Recommendation Score (drop NaN):\", drop_nan.mean().mean())"
   ]
  },
  {
   "cell_type": "code",
   "execution_count": 7,
   "metadata": {},
   "outputs": [
    {
     "data": {
      "text/html": [
       "<div>\n",
       "<style scoped>\n",
       "    .dataframe tbody tr th:only-of-type {\n",
       "        vertical-align: middle;\n",
       "    }\n",
       "\n",
       "    .dataframe tbody tr th {\n",
       "        vertical-align: top;\n",
       "    }\n",
       "\n",
       "    .dataframe thead th {\n",
       "        text-align: right;\n",
       "    }\n",
       "</style>\n",
       "<table border=\"1\" class=\"dataframe\">\n",
       "  <thead>\n",
       "    <tr style=\"text-align: right;\">\n",
       "      <th></th>\n",
       "      <th>FreeTextQ1</th>\n",
       "    </tr>\n",
       "  </thead>\n",
       "  <tbody>\n",
       "    <tr>\n",
       "      <th>3</th>\n",
       "      <td>Vulputate, et in, curabitur nunc? Vulputate? D...</td>\n",
       "    </tr>\n",
       "    <tr>\n",
       "      <th>4</th>\n",
       "      <td>Magna. Porta risus consequat dolor ipsum non p...</td>\n",
       "    </tr>\n",
       "    <tr>\n",
       "      <th>5</th>\n",
       "      <td>Non tortor. Diam dapibus turpis in velit. Ut v...</td>\n",
       "    </tr>\n",
       "    <tr>\n",
       "      <th>6</th>\n",
       "      <td>Eu ullamcorper elit egestas cursus sed dolor a...</td>\n",
       "    </tr>\n",
       "    <tr>\n",
       "      <th>7</th>\n",
       "      <td>Nulla! Nulla consequat! Tellus! Laoreet mattis...</td>\n",
       "    </tr>\n",
       "    <tr>\n",
       "      <th>8</th>\n",
       "      <td>Sapien quam tempus vestibulum ante pellentesqu...</td>\n",
       "    </tr>\n",
       "    <tr>\n",
       "      <th>9</th>\n",
       "      <td>At orci? Eleifend odio ligula erat curabitur. ...</td>\n",
       "    </tr>\n",
       "    <tr>\n",
       "      <th>10</th>\n",
       "      <td>Scelerisque fermentum. Sit, sodales commodo. N...</td>\n",
       "    </tr>\n",
       "    <tr>\n",
       "      <th>11</th>\n",
       "      <td>Nec velit dolorem mattis convallis accumsan te...</td>\n",
       "    </tr>\n",
       "  </tbody>\n",
       "</table>\n",
       "</div>"
      ],
      "text/plain": [
       "                                           FreeTextQ1\n",
       "3   Vulputate, et in, curabitur nunc? Vulputate? D...\n",
       "4   Magna. Porta risus consequat dolor ipsum non p...\n",
       "5   Non tortor. Diam dapibus turpis in velit. Ut v...\n",
       "6   Eu ullamcorper elit egestas cursus sed dolor a...\n",
       "7   Nulla! Nulla consequat! Tellus! Laoreet mattis...\n",
       "8   Sapien quam tempus vestibulum ante pellentesqu...\n",
       "9   At orci? Eleifend odio ligula erat curabitur. ...\n",
       "10  Scelerisque fermentum. Sit, sodales commodo. N...\n",
       "11  Nec velit dolorem mattis convallis accumsan te..."
      ]
     },
     "execution_count": 7,
     "metadata": {},
     "output_type": "execute_result"
    }
   ],
   "source": [
    "free_text_q1"
   ]
  },
  {
   "cell_type": "code",
   "execution_count": 8,
   "metadata": {},
   "outputs": [
    {
     "data": {
      "text/html": [
       "<div>\n",
       "<style scoped>\n",
       "    .dataframe tbody tr th:only-of-type {\n",
       "        vertical-align: middle;\n",
       "    }\n",
       "\n",
       "    .dataframe tbody tr th {\n",
       "        vertical-align: top;\n",
       "    }\n",
       "\n",
       "    .dataframe thead th {\n",
       "        text-align: right;\n",
       "    }\n",
       "</style>\n",
       "<table border=\"1\" class=\"dataframe\">\n",
       "  <thead>\n",
       "    <tr style=\"text-align: right;\">\n",
       "      <th></th>\n",
       "      <th>FreeTextQ2</th>\n",
       "    </tr>\n",
       "  </thead>\n",
       "  <tbody>\n",
       "    <tr>\n",
       "      <th>3</th>\n",
       "      <td>Bibendum odio! Bibendum? Luctus dui mi, et vit...</td>\n",
       "    </tr>\n",
       "    <tr>\n",
       "      <th>4</th>\n",
       "      <td>Molestie? Consectetuer diam tincidunt dui conv...</td>\n",
       "    </tr>\n",
       "    <tr>\n",
       "      <th>5</th>\n",
       "      <td>Sit aliquam tempor augue. Tempus? Quis massa l...</td>\n",
       "    </tr>\n",
       "    <tr>\n",
       "      <th>6</th>\n",
       "      <td>Rhoncus blandit odio nulla natoque bibendum! R...</td>\n",
       "    </tr>\n",
       "    <tr>\n",
       "      <th>7</th>\n",
       "      <td>Accusamus euismod fusce auctor pharetra dictum...</td>\n",
       "    </tr>\n",
       "    <tr>\n",
       "      <th>8</th>\n",
       "      <td>Praesent eros diam tincidunt scelerisque eleif...</td>\n",
       "    </tr>\n",
       "    <tr>\n",
       "      <th>9</th>\n",
       "      <td>Ipsum, neque ligula ac odio et tempora mi! Ult...</td>\n",
       "    </tr>\n",
       "    <tr>\n",
       "      <th>10</th>\n",
       "      <td>Mi! Augue? Sollicitudin vitae facilisi, sagitt...</td>\n",
       "    </tr>\n",
       "    <tr>\n",
       "      <th>11</th>\n",
       "      <td>Sagittis placerat, nibh lacus sapien ab. Ante ...</td>\n",
       "    </tr>\n",
       "  </tbody>\n",
       "</table>\n",
       "</div>"
      ],
      "text/plain": [
       "                                           FreeTextQ2\n",
       "3   Bibendum odio! Bibendum? Luctus dui mi, et vit...\n",
       "4   Molestie? Consectetuer diam tincidunt dui conv...\n",
       "5   Sit aliquam tempor augue. Tempus? Quis massa l...\n",
       "6   Rhoncus blandit odio nulla natoque bibendum! R...\n",
       "7   Accusamus euismod fusce auctor pharetra dictum...\n",
       "8   Praesent eros diam tincidunt scelerisque eleif...\n",
       "9   Ipsum, neque ligula ac odio et tempora mi! Ult...\n",
       "10  Mi! Augue? Sollicitudin vitae facilisi, sagitt...\n",
       "11  Sagittis placerat, nibh lacus sapien ab. Ante ..."
      ]
     },
     "execution_count": 8,
     "metadata": {},
     "output_type": "execute_result"
    }
   ],
   "source": [
    "free_text_q2"
   ]
  },
  {
   "cell_type": "code",
   "execution_count": null,
   "metadata": {},
   "outputs": [],
   "source": []
  }
 ],
 "metadata": {
  "kernelspec": {
   "display_name": "Python 3 (ipykernel)",
   "language": "python",
   "name": "python3"
  },
  "language_info": {
   "codemirror_mode": {
    "name": "ipython",
    "version": 3
   },
   "file_extension": ".py",
   "mimetype": "text/x-python",
   "name": "python",
   "nbconvert_exporter": "python",
   "pygments_lexer": "ipython3",
   "version": "3.12.3"
  }
 },
 "nbformat": 4,
 "nbformat_minor": 4
}
