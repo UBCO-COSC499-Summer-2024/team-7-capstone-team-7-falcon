{
 "cells": [
  {
   "cell_type": "markdown",
   "metadata": {},
   "source": [
    "# Custom OMR Model Training\n",
    "Based on the colab tutorial on https://roboflow.com/model/yolov4-pytorch\n",
    "\n",
    "Since everything was set up locally, this starts on [This Step](https://colab.research.google.com/drive/1b08y_nUYv5UtDY211NFfINY7Hy_pgZDt#scrollTo=TvwlqXkSlwUm&line=1&uniqifier=1)\n",
    "---\n",
    "We start below with getting the number of classes for training:"
   ]
  },
  {
   "cell_type": "code",
   "execution_count": 3,
   "metadata": {},
   "outputs": [],
   "source": [
    "def file_len(fname):\n",
    "  with open(fname) as f:\n",
    "    for i, l in enumerate(f):\n",
    "      pass\n",
    "  return i + 1\n",
    "\n",
    "num_classes = file_len('dataset/train/_classes.txt')"
   ]
  },
  {
   "cell_type": "code",
   "execution_count": 4,
   "metadata": {},
   "outputs": [
    {
     "name": "stdout",
     "output_type": "stream",
     "text": [
      "8\n"
     ]
    }
   ],
   "source": [
    "print(num_classes)"
   ]
  },
  {
   "cell_type": "markdown",
   "metadata": {},
   "source": [
    "# Now Let's Train our custom detection model"
   ]
  },
  {
   "cell_type": "code",
   "execution_count": 7,
   "metadata": {},
   "outputs": [
    {
     "name": "stdout",
     "output_type": "stream",
     "text": [
      "Traceback (most recent call last):\n",
      "  File \"/home/franph/projects/capstone/project-falcon/tasks/OMR-tool/model_training/./pytorch-YOLOv4/train.py\", line 13, in <module>\n",
      "    import torch\n",
      "  File \"/home/franph/projects/capstone/project-falcon/tasks/OMR-tool/.venv/lib64/python3.12/site-packages/torch/__init__.py\", line 239, in <module>\n",
      "    from torch._C import *  # noqa: F403\n",
      "    ^^^^^^^^^^^^^^^^^^^^^^\n",
      "ImportError: libcudnn.so.8: cannot open shared object file: No such file or directory\n"
     ]
    }
   ],
   "source": [
    "#start training\n",
    "#-b batch size (you should keep this low (2-4) for training to work properly)\n",
    "#-s number of subdivisions in the batch, this was more relevant for the darknet framework\n",
    "#-l learning rate\n",
    "#-g direct training to the GPU device\n",
    "#pretrained invoke the pretrained weights that we downloaded above\n",
    "#classes - number of classes\n",
    "#dir - where the training data is\n",
    "#epoch - how long to train for\n",
    "!python ./pytorch-YOLOv4/train.py -b 2 -s 1 -l 0.001 -g 0 -pretrained /content/pytorch-YOLOv4/cfg/yolov4.conv.137.pth -classes {num_classes} -dir ./train -epochs 50"
   ]
  }
 ],
 "metadata": {
  "kernelspec": {
   "display_name": "Python 3",
   "language": "python",
   "name": "python3"
  },
  "language_info": {
   "codemirror_mode": {
    "name": "ipython",
    "version": 3
   },
   "file_extension": ".py",
   "mimetype": "text/x-python",
   "name": "python",
   "nbconvert_exporter": "python",
   "pygments_lexer": "ipython3",
   "version": "3.12.3"
  }
 },
 "nbformat": 4,
 "nbformat_minor": 2
}
